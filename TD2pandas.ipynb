{
  "nbformat": 4,
  "nbformat_minor": 0,
  "metadata": {
    "colab": {
      "provenance": [],
      "authorship_tag": "ABX9TyPQUkF3GspmoQtkrzB0MKH8",
      "include_colab_link": true
    },
    "kernelspec": {
      "name": "python3",
      "display_name": "Python 3"
    },
    "language_info": {
      "name": "python"
    }
  },
  "cells": [
    {
      "cell_type": "markdown",
      "metadata": {
        "id": "view-in-github",
        "colab_type": "text"
      },
      "source": [
        "<a href=\"https://colab.research.google.com/github/Amelel93/Numpyexo/blob/main/TD2pandas.ipynb\" target=\"_parent\"><img src=\"https://colab.research.google.com/assets/colab-badge.svg\" alt=\"Open In Colab\"/></a>"
      ]
    },
    {
      "cell_type": "code",
      "execution_count": 6,
      "metadata": {
        "colab": {
          "base_uri": "https://localhost:8080/"
        },
        "id": "a55Fw4nxdqXI",
        "outputId": "67d9a890-a815-4ddd-e8f9-1c61d0404477"
      },
      "outputs": [
        {
          "output_type": "stream",
          "name": "stdout",
          "text": [
            "a    100\n",
            "b    200\n",
            "c    300\n",
            "dtype: int64\n"
          ]
        }
      ],
      "source": [
        "#Exercice 1 : Creating and Modifying Series\n",
        "import pandas as pd\n",
        "import numpy as np\n",
        "data = {'a': 100, 'b': 200, 'c': 300}\n",
        "s = pd.Series(data)  # Création de la Series\n",
        "print(s)"
      ]
    },
    {
      "cell_type": "code",
      "source": [
        "#Exercice 2 : Creating DataFrames\n",
        "\n",
        "#Creation du  DataFrame\n",
        "data = {'A': [1, 4, 7], 'B': [2, 5, 8], 'C': [3, 6, 9]}\n",
        "df = pd.DataFrame(data)\n",
        "\n",
        "#  Ajouter la colonne \"D\" avec les valeurs [10, 11, 12]\n",
        "df['D'] = [10, 11, 12]\n",
        "\n",
        "# Supprimer la colonne 'B'\n",
        "df = df.drop(columns=['B'])\n",
        "\n",
        "print(df)"
      ],
      "metadata": {
        "colab": {
          "base_uri": "https://localhost:8080/"
        },
        "id": "4QTvqO-hd_lz",
        "outputId": "40b73d5a-29ea-4bec-fa7b-d7ab9b08c7b7"
      },
      "execution_count": 3,
      "outputs": [
        {
          "output_type": "stream",
          "name": "stdout",
          "text": [
            "   A  C   D\n",
            "0  1  3  10\n",
            "1  4  6  11\n",
            "2  7  9  12\n"
          ]
        }
      ]
    },
    {
      "cell_type": "code",
      "source": [
        "# Exercice 3 : DataFrame Indexing and Selection\n",
        "\n",
        "# Création du DataFrame\n",
        "data = {'A': [1, 4, 7], 'B': [2, 5, 8], 'C': [3, 6, 9]}\n",
        "df = pd.DataFrame(data)\n",
        "\n",
        "# Sélection de la colonne B\n",
        "col_B = df['B']\n",
        "print(\"Colonne B :\\n\", col_B)\n"
      ],
      "metadata": {
        "colab": {
          "base_uri": "https://localhost:8080/"
        },
        "id": "hrkkPmzweQr2",
        "outputId": "f694304b-225f-49db-85b8-9cb3f7611dbd"
      },
      "execution_count": 5,
      "outputs": [
        {
          "output_type": "stream",
          "name": "stdout",
          "text": [
            "Colonne B :\n",
            " 0    2\n",
            "1    5\n",
            "2    8\n",
            "Name: B, dtype: int64\n"
          ]
        }
      ]
    },
    {
      "cell_type": "code",
      "source": [
        "# Exercice 4 : Adding and Removing DataFrame Elements\n",
        "\n",
        " #Création du DataFrame initial\n",
        "data = {'A': [1, 4, 7], 'B': [2, 5, 8], 'C': [3, 6, 9]}\n",
        "df = pd.DataFrame(data)\n",
        "\n",
        "# Ajouter une nouvelle colonne 'Somme' (A + B + C)\n",
        "df['Somme'] = df['A'] + df['B'] + df['C']\n",
        "print(\"\\nDataFrame avec la colonne Somme :\\n\", df)\n",
        "\n",
        "# Supprimer la colonne 'Somme'\n",
        "df = df.drop(columns=['Somme'])\n",
        "print(\"\\nDataFrame après suppression de la colonne Somme :\\n\", df)\n",
        "\n",
        "# Ajouter une colonne 'Aléatoire' avec des nombres générés aléatoirement via NumPy\n",
        "df['Aléatoire'] = np.random.randint(1, 100, size=len(df))\n",
        "print(\"\\nDataFrame avec la colonne Aléatoire :\\n\", df)"
      ],
      "metadata": {
        "colab": {
          "base_uri": "https://localhost:8080/"
        },
        "id": "NxUNMNJffeoD",
        "outputId": "2a23e01d-7868-44c8-e376-7ac0818fa0f7"
      },
      "execution_count": 8,
      "outputs": [
        {
          "output_type": "stream",
          "name": "stdout",
          "text": [
            "\n",
            "DataFrame avec la colonne Somme :\n",
            "    A  B  C  Somme\n",
            "0  1  2  3      6\n",
            "1  4  5  6     15\n",
            "2  7  8  9     24\n",
            "\n",
            "DataFrame après suppression de la colonne Somme :\n",
            "    A  B  C\n",
            "0  1  2  3\n",
            "1  4  5  6\n",
            "2  7  8  9\n",
            "\n",
            "DataFrame avec la colonne Aléatoire :\n",
            "    A  B  C  Aléatoire\n",
            "0  1  2  3          8\n",
            "1  4  5  6         78\n",
            "2  7  8  9         70\n"
          ]
        }
      ]
    },
    {
      "cell_type": "code",
      "source": [
        "# Exercice 5 : Merging DataFrames\n",
        "\n",
        "# Création des DataFrames\n",
        "left = pd.DataFrame({'key': [1, 2, 3],\n",
        "                     'A': ['A1', 'A2', 'A3'],\n",
        "                     'B': ['B1', 'B2', 'B3']})\n",
        "\n",
        "right = pd.DataFrame({'key': [1, 2, 3],\n",
        "                      'C': ['C1', 'C2', 'C3'],\n",
        "                      'D': ['D1', 'D2', 'D3']})\n",
        "\n",
        "# Fusion des DataFrames sur la colonne 'key' avec une jointure interne\n",
        "df_inner = pd.merge(left, right, on='key')\n",
        "print(\"\\nFusion avec jointure interne :\\n\", df_inner)\n",
        "\n",
        "# Modifier la fusion pour utiliser une jointure externe (outer join)\n",
        "df_outer = pd.merge(left, right, on='key', how='outer')\n",
        "print(\"\\nFusion avec jointure externe :\\n\", df_outer)\n",
        "\n",
        "# Ajouter une nouvelle colonne 'E' au DataFrame 'right'\n",
        "right['E'] = ['E1', 'E2', 'E3']\n",
        "print(\"\\nDataFrame right après ajout de la colonne E :\\n\", right)\n",
        "\n",
        "# Mettre à jour la fusion pour inclure la nouvelle colonne 'E'\n",
        "df_updated = pd.merge(left, right, on='key', how='outer')\n",
        "print(\"\\nFusion mise à jour avec la colonne E :\\n\", df_updated)\n"
      ],
      "metadata": {
        "id": "2Sc2uYxQiOx6"
      },
      "execution_count": null,
      "outputs": []
    },
    {
      "cell_type": "code",
      "source": [
        "# Exercice 6 : Data Cleaning\n",
        "\n",
        "# Création du DataFrame avec des valeurs NaN\n",
        "data = {'A': [1.0, np.nan, 7.0],\n",
        "        'B': [np.nan, 5.0, 8.0],\n",
        "        'C': [3.0, 6.0, np.nan]}\n",
        "df = pd.DataFrame(data)\n",
        "\n",
        "# Remplacer toutes les valeurs NaN par 0\n",
        "df_zero = df.fillna(0)\n",
        "print(\"\\nDataFrame après remplacement des NaN par 0 :\\n\", df_zero)\n",
        "\n",
        "# Remplacer les NaN par la moyenne de la colonne correspondante\n",
        "df_mean = df.fillna(df.mean(numeric_only=True))\n",
        "print(\"\\nDataFrame après remplacement des NaN par la moyenne de la colonne :\\n\", df_mean)\n",
        "\n",
        "# Supprimer les lignes contenant au moins un NaN\n",
        "df_dropped = df.dropna()\n",
        "print(\"\\nDataFrame après suppression des lignes contenant des NaN :\\n\", df_dropped)\n"
      ],
      "metadata": {
        "colab": {
          "base_uri": "https://localhost:8080/"
        },
        "id": "f-3ONF3Dqjgr",
        "outputId": "b9e8d9ea-b334-49fa-86a9-ceff7d0b70e1"
      },
      "execution_count": 9,
      "outputs": [
        {
          "output_type": "stream",
          "name": "stdout",
          "text": [
            "\n",
            "DataFrame après remplacement des NaN par 0 :\n",
            "      A    B    C\n",
            "0  1.0  0.0  3.0\n",
            "1  0.0  5.0  6.0\n",
            "2  7.0  8.0  0.0\n",
            "\n",
            "DataFrame après remplacement des NaN par la moyenne de la colonne :\n",
            "      A    B    C\n",
            "0  1.0  6.5  3.0\n",
            "1  4.0  5.0  6.0\n",
            "2  7.0  8.0  4.5\n",
            "\n",
            "DataFrame après suppression des lignes contenant des NaN :\n",
            " Empty DataFrame\n",
            "Columns: [A, B, C]\n",
            "Index: []\n"
          ]
        }
      ]
    },
    {
      "cell_type": "code",
      "source": [
        "#Exercice 7 : Grouping and Aggregation\n",
        "\n",
        "# Création du DataFrame\n",
        "data = {'Category': ['A', 'B', 'A', 'B', 'A', 'B'],\n",
        "        'Value': [1, 2, 3, 4, 5, 6]}\n",
        "df = pd.DataFrame(data)\n",
        "\n",
        "# Calcul de la moyenne des valeurs par catégorie\n",
        "df_mean = df.groupby('Category')['Value'].mean()\n",
        "print(\"\\nMoyenne des valeurs par catégorie :\\n\", df_mean)\n",
        "\n",
        "#  Modifier pour calculer la somme au lieu de la moyenne\n",
        "df_sum = df.groupby('Category')['Value'].sum()\n",
        "print(\"\\nSomme des valeurs par catégorie :\\n\", df_sum)\n",
        "\n",
        "# Compter le nombre d'entrées dans chaque catégorie\n",
        "df_count = df.groupby('Category')['Value'].count()\n",
        "print(\"\\nNombre d'entrées par catégorie :\\n\", df_count)\n"
      ],
      "metadata": {
        "colab": {
          "base_uri": "https://localhost:8080/"
        },
        "id": "Ka2ZMje_fVbQ",
        "outputId": "f3aa717f-bf74-4f18-9295-c8e67b084877"
      },
      "execution_count": 10,
      "outputs": [
        {
          "output_type": "stream",
          "name": "stdout",
          "text": [
            "\n",
            "Moyenne des valeurs par catégorie :\n",
            " Category\n",
            "A    3.0\n",
            "B    4.0\n",
            "Name: Value, dtype: float64\n",
            "\n",
            "Somme des valeurs par catégorie :\n",
            " Category\n",
            "A     9\n",
            "B    12\n",
            "Name: Value, dtype: int64\n",
            "\n",
            "Nombre d'entrées par catégorie :\n",
            " Category\n",
            "A    3\n",
            "B    3\n",
            "Name: Value, dtype: int64\n"
          ]
        }
      ]
    },
    {
      "cell_type": "code",
      "source": [
        "# Exercice 8 : Pivot Tables\n",
        "\n",
        "# Création du DataFrame\n",
        "data = {'Category': ['A', 'A', 'A', 'B', 'B', 'B'],\n",
        "        'Type': ['X', 'Y', 'X', 'Y', 'X', 'Y'],\n",
        "        'Value': [1, 2, 3, 4, 5, 6]}\n",
        "df = pd.DataFrame(data)\n",
        "\n",
        "# Créer une table pivot avec la moyenne de 'Value' pour chaque 'Category' et 'Type'\n",
        "pivot_mean = df.pivot_table(values='Value', index='Category', columns='Type', aggfunc='mean')\n",
        "print(\"\\nTable pivot avec la moyenne :\\n\", pivot_mean)\n",
        "\n",
        "# Modifier la table pivot pour afficher la somme des valeurs au lieu de la moyenne\n",
        "pivot_sum = df.pivot_table(values='Value', index='Category', columns='Type', aggfunc='sum')\n",
        "print(\"\\nTable pivot avec la somme :\\n\", pivot_sum)\n",
        "\n",
        "# Ajouter les marges pour afficher les totaux globaux\n",
        "pivot_total = df.pivot_table(values='Value', index='Category', columns='Type', aggfunc='mean', margins=True)\n",
        "print(\"\\nTable pivot avec les totaux globaux :\\n\", pivot_total)\n"
      ],
      "metadata": {
        "colab": {
          "base_uri": "https://localhost:8080/"
        },
        "id": "7sHC4uUrsbDe",
        "outputId": "d0a6112d-389e-45da-a9af-20bf05dfb8fd"
      },
      "execution_count": 11,
      "outputs": [
        {
          "output_type": "stream",
          "name": "stdout",
          "text": [
            "\n",
            "Table pivot avec la moyenne :\n",
            " Type        X    Y\n",
            "Category          \n",
            "A         2.0  2.0\n",
            "B         5.0  5.0\n",
            "\n",
            "Table pivot avec la somme :\n",
            " Type      X   Y\n",
            "Category       \n",
            "A         4   2\n",
            "B         5  10\n",
            "\n",
            "Table pivot avec les totaux globaux :\n",
            " Type        X    Y  All\n",
            "Category               \n",
            "A         2.0  2.0  2.0\n",
            "B         5.0  5.0  5.0\n",
            "All       3.0  4.0  3.5\n"
          ]
        }
      ]
    },
    {
      "cell_type": "code",
      "source": [
        "# Exercice 9 : Time Series Data\n",
        "\n",
        "\n",
        "# Créer une série temporelle avec une plage de dates\n",
        "date_range = pd.date_range(start='2023-01-01', periods=6, freq='D')\n",
        "\n",
        "# Création du DataFrame avec des valeurs aléatoires\n",
        "df = pd.DataFrame({'Date': date_range, 'Value': np.random.randint(1, 100, size=6)})\n",
        "\n",
        "# Définir la colonne 'Date' comme index\n",
        "df.set_index('Date', inplace=True)\n",
        "print(\"\\nDataFrame avec l'index de date :\\n\", df)\n",
        "\n",
        "# Rééchantillonner les données et calculer la somme sur chaque période de 2 jours\n",
        "df_resampled = df.resample('2D').sum()\n",
        "print(\"\\nDataFrame rééchantillonné (somme sur 2 jours) :\\n\", df_resampled)\n"
      ],
      "metadata": {
        "colab": {
          "base_uri": "https://localhost:8080/"
        },
        "id": "4vsohom9tHeW",
        "outputId": "bb62b3a6-2817-46b3-b722-b80b299f00eb"
      },
      "execution_count": 12,
      "outputs": [
        {
          "output_type": "stream",
          "name": "stdout",
          "text": [
            "\n",
            "DataFrame avec l'index de date :\n",
            "             Value\n",
            "Date             \n",
            "2023-01-01     81\n",
            "2023-01-02     15\n",
            "2023-01-03     79\n",
            "2023-01-04      7\n",
            "2023-01-05     36\n",
            "2023-01-06     29\n",
            "\n",
            "DataFrame rééchantillonné (somme sur 2 jours) :\n",
            "             Value\n",
            "Date             \n",
            "2023-01-01     96\n",
            "2023-01-03     86\n",
            "2023-01-05     65\n"
          ]
        }
      ]
    },
    {
      "cell_type": "code",
      "source": [
        "# Exercice 10 : Handling Missing Data\n",
        "\n",
        "# Création du DataFrame avec des valeurs NaN\n",
        "data = {'A': [1.0, 2.0, np.nan],\n",
        "        'B': [np.nan, 5.0, 8.0],\n",
        "        'C': [3.0, np.nan, 9.0]}\n",
        "df = pd.DataFrame(data)\n",
        "\n",
        "# Interpoler les valeurs manquantes\n",
        "df_interpolated = df.interpolate()\n",
        "print(\"\\nDataFrame après interpolation des valeurs manquantes :\\n\", df_interpolated)\n",
        "\n",
        "# Supprimer les lignes contenant des NaN au lieu d'interpoler\n",
        "df_dropped = df.dropna()\n",
        "print(\"\\nDataFrame après suppression des lignes avec NaN :\\n\", df_dropped)\n"
      ],
      "metadata": {
        "colab": {
          "base_uri": "https://localhost:8080/"
        },
        "id": "ujma0OtZuN9N",
        "outputId": "afb059eb-cb64-4609-d1f9-0809f25c52d8"
      },
      "execution_count": 13,
      "outputs": [
        {
          "output_type": "stream",
          "name": "stdout",
          "text": [
            "\n",
            "DataFrame après interpolation des valeurs manquantes :\n",
            "      A    B    C\n",
            "0  1.0  NaN  3.0\n",
            "1  2.0  5.0  6.0\n",
            "2  2.0  8.0  9.0\n",
            "\n",
            "DataFrame après suppression des lignes avec NaN :\n",
            " Empty DataFrame\n",
            "Columns: [A, B, C]\n",
            "Index: []\n"
          ]
        }
      ]
    },
    {
      "cell_type": "code",
      "source": [
        "#Exercice 11 : DataFrame Operations\n",
        "\n",
        " # Création du DataFrame\n",
        "import pandas as pd\n",
        "\n",
        "data = {'A': [1, 4, 7], 'B': [2, 5, 8], 'C': [3, 6, 9]}\n",
        "df = pd.DataFrame(data)\n",
        "\n",
        "# Calculer la somme cumulative\n",
        "df_cumsum = df.cumsum()\n",
        "print(\"\\nSomme cumulative du DataFrame :\\n\", df_cumsum)\n",
        "\n",
        "# Calculer le produit cumulatif\n",
        "df_cumprod = df.cumprod()\n",
        "print(\"\\nProduit cumulatif du DataFrame :\\n\", df_cumprod)\n",
        "\n",
        "# Appliquer une fonction pour soustraire 1 à tous les éléments\n",
        "df_subtract = df.map(lambda x: x - 1)\n",
        "print(\"\\nDataFrame après soustraction de 1 à tous les éléments :\\n\", df_subtract)\n"
      ],
      "metadata": {
        "colab": {
          "base_uri": "https://localhost:8080/"
        },
        "id": "khZst5ELucVy",
        "outputId": "968facd3-b74d-444f-99a9-f6fc06268eea"
      },
      "execution_count": 15,
      "outputs": [
        {
          "output_type": "stream",
          "name": "stdout",
          "text": [
            "\n",
            "Somme cumulative du DataFrame :\n",
            "     A   B   C\n",
            "0   1   2   3\n",
            "1   5   7   9\n",
            "2  12  15  18\n",
            "\n",
            "Produit cumulatif du DataFrame :\n",
            "     A   B    C\n",
            "0   1   2    3\n",
            "1   4  10   18\n",
            "2  28  80  162\n",
            "\n",
            "DataFrame après soustraction de 1 à tous les éléments :\n",
            "    A  B  C\n",
            "0  0  1  2\n",
            "1  3  4  5\n",
            "2  6  7  8\n"
          ]
        }
      ]
    }
  ]
}